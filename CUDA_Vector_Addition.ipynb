{
  "nbformat": 4,
  "nbformat_minor": 0,
  "metadata": {
    "colab": {
      "provenance": []
    },
    "kernelspec": {
      "name": "python3",
      "display_name": "Python 3"
    },
    "language_info": {
      "name": "python"
    }
  },
  "cells": [
    {
      "cell_type": "code",
      "execution_count": 1,
      "metadata": {
        "colab": {
          "base_uri": "https://localhost:8080/"
        },
        "id": "Wcn2l6QbgnHj",
        "outputId": "653705cd-1912-4eb5-cfd7-a77929e91761"
      },
      "outputs": [
        {
          "output_type": "stream",
          "name": "stdout",
          "text": [
            "Collecting git+https://github.com/afnan47/cuda.git\n",
            "  Cloning https://github.com/afnan47/cuda.git to /tmp/pip-req-build-n9wpee6u\n",
            "  Running command git clone --filter=blob:none --quiet https://github.com/afnan47/cuda.git /tmp/pip-req-build-n9wpee6u\n",
            "  Resolved https://github.com/afnan47/cuda.git to commit aac710a35f52bb78ab34d2e52517237941399eff\n",
            "  Preparing metadata (setup.py) ... \u001b[?25l\u001b[?25hdone\n",
            "Building wheels for collected packages: NVCCPlugin\n",
            "  Building wheel for NVCCPlugin (setup.py) ... \u001b[?25l\u001b[?25hdone\n",
            "  Created wheel for NVCCPlugin: filename=NVCCPlugin-0.0.2-py3-none-any.whl size=4290 sha256=e79bd04a84fb328045339946a56b65c97cc26f5d367e14ad25e894439f5afd77\n",
            "  Stored in directory: /tmp/pip-ephem-wheel-cache-7yp61uhr/wheels/bc/4e/e0/2d86bd15f671dbeb32144013f1159dba09757fde36dc51a963\n",
            "Successfully built NVCCPlugin\n",
            "Installing collected packages: NVCCPlugin\n",
            "Successfully installed NVCCPlugin-0.0.2\n"
          ]
        }
      ],
      "source": [
        "!pip install git+https://github.com/afnan47/cuda.git"
      ]
    },
    {
      "cell_type": "code",
      "source": [
        "%load_ext nvcc_plugin"
      ],
      "metadata": {
        "colab": {
          "base_uri": "https://localhost:8080/"
        },
        "id": "51OQ3HNTgwjJ",
        "outputId": "3ada058a-0c6d-400f-ee5b-2bc796f4245c"
      },
      "execution_count": 2,
      "outputs": [
        {
          "output_type": "stream",
          "name": "stdout",
          "text": [
            "created output directory at /content/src\n",
            "Out bin /content/result.out\n"
          ]
        }
      ]
    },
    {
      "cell_type": "code",
      "source": [
        "%%writefile Assignment4B.cu\n",
        "#include <iostream>\n",
        "#include <cuda.h>\n",
        "#include <chrono>\n",
        "\n",
        "using namespace std;\n",
        "using namespace std::chrono;\n",
        "\n",
        "__global__ void add(int* A, int* B, int* C, int size) {\n",
        "    int tid = blockIdx.x * blockDim.x + threadIdx.x;\n",
        "\n",
        "    if (tid < size) {\n",
        "        C[tid] = A[tid] + B[tid];\n",
        "    }\n",
        "}\n",
        "\n",
        "void initialize(int* vector, int size) {\n",
        "    for (int i = 0; i < size; i++) {\n",
        "        cout << \"Enter element \" << i + 1 << \" of the vector: \";\n",
        "        cin >> vector[i];\n",
        "    }\n",
        "}\n",
        "\n",
        "void print(int* vector, int size) {\n",
        "    for (int i = 0; i < size; i++) {\n",
        "        cout << vector[i] << \" \";\n",
        "    }\n",
        "    cout << endl;\n",
        "}\n",
        "\n",
        "void sequentialAddition(int* A, int* B, int* C, int size) {\n",
        "    for (int i = 0; i < size; i++) {\n",
        "        C[i] = A[i] + B[i];\n",
        "    }\n",
        "}\n",
        "\n",
        "int main() {\n",
        "    int N;\n",
        "    cout << \"Enter the size of the vectors: \";\n",
        "    cin >> N;\n",
        "\n",
        "    int* A, * B, * C;\n",
        "\n",
        "    int vectorSize = N;\n",
        "    size_t vectorBytes = vectorSize * sizeof(int);\n",
        "\n",
        "    A = new int[vectorSize];\n",
        "    B = new int[vectorSize];\n",
        "    C = new int[vectorSize];\n",
        "\n",
        "    initialize(A, vectorSize);\n",
        "    initialize(B, vectorSize);\n",
        "\n",
        "    cout << \"Vector A: \";\n",
        "    print(A, N);\n",
        "    cout << \"Vector B: \";\n",
        "    print(B, N);\n",
        "\n",
        "    int* X, * Y, * Z;\n",
        "    cudaMalloc(&X, vectorBytes);\n",
        "    cudaMalloc(&Y, vectorBytes);\n",
        "    cudaMalloc(&Z, vectorBytes);\n",
        "\n",
        "    cudaMemcpy(X, A, vectorBytes, cudaMemcpyHostToDevice);\n",
        "    cudaMemcpy(Y, B, vectorBytes, cudaMemcpyHostToDevice);\n",
        "\n",
        "    int threadsPerBlock = 256;\n",
        "    int blocksPerGrid = (N + threadsPerBlock - 1) / threadsPerBlock;\n",
        "\n",
        "    // Sequential addition\n",
        "    auto start = high_resolution_clock::now();\n",
        "    sequentialAddition(A, B, C, N);\n",
        "    auto stop = high_resolution_clock::now();\n",
        "    auto seq_duration = duration_cast<microseconds>(stop - start);\n",
        "\n",
        "    cout << \"Sequential Addition: \";\n",
        "    print(C, N);\n",
        "\n",
        "    // Parallel addition\n",
        "    start = high_resolution_clock::now();\n",
        "    add<<<blocksPerGrid, threadsPerBlock>>>(X, Y, Z, N);\n",
        "    cudaMemcpy(C, Z, vectorBytes, cudaMemcpyDeviceToHost);\n",
        "    stop = high_resolution_clock::now();\n",
        "    auto par_duration = duration_cast<microseconds>(stop - start);\n",
        "\n",
        "    cout << \"Parallel Addition: \";\n",
        "    print(C, N);\n",
        "\n",
        "    cout << \"Sequential Addition Time: \" << seq_duration.count() << \" microseconds\" << endl;\n",
        "    cout << \"Parallel Addition Time: \" << par_duration.count() << \" microseconds\" << endl;\n",
        "\n",
        "    delete[] A;\n",
        "    delete[] B;\n",
        "    delete[] C;\n",
        "\n",
        "    cudaFree(X);\n",
        "    cudaFree(Y);\n",
        "    cudaFree(Z);\n",
        "\n",
        "    return 0;\n",
        "}"
      ],
      "metadata": {
        "colab": {
          "base_uri": "https://localhost:8080/"
        },
        "id": "FBgJ5BRugwlh",
        "outputId": "64e0e6af-04fe-43a5-c050-f1753e6ff334"
      },
      "execution_count": 3,
      "outputs": [
        {
          "output_type": "stream",
          "name": "stdout",
          "text": [
            "Writing Assignment4B.cu\n"
          ]
        }
      ]
    },
    {
      "cell_type": "code",
      "source": [
        "!nvcc Assignment4B.cu -o Assignment4B\n",
        "!./Assignment4B"
      ],
      "metadata": {
        "colab": {
          "base_uri": "https://localhost:8080/"
        },
        "id": "4FRSNSxigwoI",
        "outputId": "a9fb0afb-4cf1-42b3-96fe-a8f70c328fd9"
      },
      "execution_count": 4,
      "outputs": [
        {
          "output_type": "stream",
          "name": "stdout",
          "text": [
            "Enter the size of the vectors: 5\n",
            "Enter element 1 of the vector: 6\n",
            "Enter element 2 of the vector: 2\n",
            "Enter element 3 of the vector: 8\n",
            "Enter element 4 of the vector: 1\n",
            "Enter element 5 of the vector: 5\n",
            "Enter element 1 of the vector: 1\n",
            "Enter element 2 of the vector: 9\n",
            "Enter element 3 of the vector: 4\n",
            "Enter element 4 of the vector: 2\n",
            "Enter element 5 of the vector: 6\n",
            "Vector A: 6 2 8 1 5 \n",
            "Vector B: 1 9 4 2 6 \n",
            "Sequential Addition: 7 11 12 3 11 \n",
            "Parallel Addition: 7 11 12 3 11 \n",
            "Sequential Addition Time: 0 microseconds\n",
            "Parallel Addition Time: 10 microseconds\n"
          ]
        }
      ]
    },
    {
      "cell_type": "code",
      "source": [],
      "metadata": {
        "id": "e5yPAANLgwvQ"
      },
      "execution_count": null,
      "outputs": []
    }
  ]
}