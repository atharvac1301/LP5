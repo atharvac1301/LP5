{
  "nbformat": 4,
  "nbformat_minor": 0,
  "metadata": {
    "colab": {
      "provenance": []
    },
    "kernelspec": {
      "name": "python3",
      "display_name": "Python 3"
    },
    "language_info": {
      "name": "python"
    }
  },
  "cells": [
    {
      "cell_type": "code",
      "execution_count": 1,
      "metadata": {
        "colab": {
          "base_uri": "https://localhost:8080/"
        },
        "id": "GxPP6fLSFQV2",
        "outputId": "703fb304-e116-498b-feee-039ba58dc13c"
      },
      "outputs": [
        {
          "output_type": "stream",
          "name": "stdout",
          "text": [
            "Collecting git+https://github.com/afnan47/cuda.git\n",
            "  Cloning https://github.com/afnan47/cuda.git to /tmp/pip-req-build-c21ckw0x\n",
            "  Running command git clone --filter=blob:none --quiet https://github.com/afnan47/cuda.git /tmp/pip-req-build-c21ckw0x\n",
            "  Resolved https://github.com/afnan47/cuda.git to commit aac710a35f52bb78ab34d2e52517237941399eff\n",
            "  Preparing metadata (setup.py) ... \u001b[?25l\u001b[?25hdone\n",
            "Building wheels for collected packages: NVCCPlugin\n",
            "  Building wheel for NVCCPlugin (setup.py) ... \u001b[?25l\u001b[?25hdone\n",
            "  Created wheel for NVCCPlugin: filename=NVCCPlugin-0.0.2-py3-none-any.whl size=4290 sha256=44dbeaf09884a8e8b4543557215ca23723c0b512d1528a30ebe10d8f70347602\n",
            "  Stored in directory: /tmp/pip-ephem-wheel-cache-cidz7_zc/wheels/bc/4e/e0/2d86bd15f671dbeb32144013f1159dba09757fde36dc51a963\n",
            "Successfully built NVCCPlugin\n",
            "Installing collected packages: NVCCPlugin\n",
            "Successfully installed NVCCPlugin-0.0.2\n"
          ]
        }
      ],
      "source": [
        "!pip install git+https://github.com/afnan47/cuda.git"
      ]
    },
    {
      "cell_type": "code",
      "source": [
        "%load_ext nvcc_plugin"
      ],
      "metadata": {
        "colab": {
          "base_uri": "https://localhost:8080/"
        },
        "id": "FGTP64JnFusx",
        "outputId": "ced87c21-51db-4ee9-c908-c53039928c25"
      },
      "execution_count": 2,
      "outputs": [
        {
          "output_type": "stream",
          "name": "stdout",
          "text": [
            "created output directory at /content/src\n",
            "Out bin /content/result.out\n"
          ]
        }
      ]
    },
    {
      "cell_type": "code",
      "source": [
        "%%writefile Assignment4A.cu\n",
        "#include <iostream>\n",
        "#include <cuda.h>\n",
        "#include <chrono>\n",
        "\n",
        "using namespace std;\n",
        "using namespace std::chrono;\n",
        "\n",
        "\n",
        "__global__ void multiply(int* A, int* B, int* C, int M, int N, int K) {\n",
        "    int row = blockIdx.y * blockDim.y + threadIdx.y;\n",
        "    int col = blockIdx.x * blockDim.x + threadIdx.x;\n",
        "\n",
        "    if (row < M && col < K) {\n",
        "        int sum = 0;\n",
        "        for (int i = 0; i < N; i++) {\n",
        "            sum += A[row * N + i] * B[i * K + col];\n",
        "        }\n",
        "        C[row * K + col] = sum;\n",
        "    }\n",
        "}\n",
        "\n",
        "void initialize(int* matrix, int rows, int cols) {\n",
        "    for (int i = 0; i < rows * cols; i++) {\n",
        "        cout << \"Enter element \" << i + 1 << \": \";\n",
        "        cin >> matrix[i];\n",
        "    }\n",
        "}\n",
        "\n",
        "void print(int* matrix, int rows, int cols) {\n",
        "    for (int row = 0; row < rows; row++) {\n",
        "        for (int col = 0; col < cols; col++) {\n",
        "            cout << matrix[row * cols + col] << \" \";\n",
        "        }\n",
        "        cout << '\\n';\n",
        "    }\n",
        "    cout << '\\n';\n",
        "}\n",
        "\n",
        "void sequentialMultiply(int* A, int* B, int* C, int M, int N, int K) {\n",
        "    for (int i = 0; i < M; i++) {\n",
        "        for (int j = 0; j < K; j++) {\n",
        "            int sum = 0;\n",
        "            for (int k = 0; k < N; k++) {\n",
        "                sum += A[i * N + k] * B[k * K + j];\n",
        "            }\n",
        "            C[i * K + j] = sum;\n",
        "        }\n",
        "    }\n",
        "}\n",
        "\n",
        "int main() {\n",
        "    int M, N, K;\n",
        "    cout << \"Enter the number of rows and columns of the first matrix: \";\n",
        "    cin >> M >> N;\n",
        "    cout << \"Enter the number of columns of the second matrix: \";\n",
        "    cin >> K;\n",
        "\n",
        "    int* A, * B, * C;\n",
        "\n",
        "    int matrixSize = M * K;\n",
        "    size_t matrixBytes = matrixSize * sizeof(int);\n",
        "\n",
        "    A = new int[M * N];\n",
        "    B = new int[N * K];\n",
        "    C = new int[M * K];\n",
        "\n",
        "    initialize(A, M, N);\n",
        "    initialize(B, N, K);\n",
        "\n",
        "    cout << \"Matrix A: \\n\";\n",
        "    print(A, M, N);\n",
        "\n",
        "    cout << \"Matrix B: \\n\";\n",
        "    print(B, N, K);\n",
        "\n",
        "    int* X, * Y, * Z;\n",
        "    cudaMalloc(&X, M * N * sizeof(int));\n",
        "    cudaMalloc(&Y, N * K * sizeof(int));\n",
        "    cudaMalloc(&Z, M * K * sizeof(int));\n",
        "\n",
        "    cudaMemcpy(X, A, M * N * sizeof(int), cudaMemcpyHostToDevice);\n",
        "    cudaMemcpy(Y, B, N * K * sizeof(int), cudaMemcpyHostToDevice);\n",
        "\n",
        "    int THREADS = 16;\n",
        "    int BLOCKS = (M + THREADS - 1) / THREADS;\n",
        "\n",
        "    dim3 threads(THREADS, THREADS);\n",
        "    dim3 blocks(BLOCKS, BLOCKS);\n",
        "\n",
        "    // Sequential multiplication\n",
        "    auto start = high_resolution_clock::now();\n",
        "    sequentialMultiply(A, B, C, M, N, K);\n",
        "    auto stop = high_resolution_clock::now();\n",
        "    auto seq_duration = duration_cast<microseconds>(stop - start);\n",
        "\n",
        "    cout << \"Sequential Multiplication of matrix A and B: \\n\";\n",
        "    print(C, M, K);\n",
        "\n",
        "    // Parallel multiplication\n",
        "    start = high_resolution_clock::now();\n",
        "    multiply<<<blocks, threads>>>(X, Y, Z, M, N, K);\n",
        "    cudaMemcpy(C, Z, M * K * sizeof(int), cudaMemcpyDeviceToHost);\n",
        "    stop = high_resolution_clock::now();\n",
        "    auto par_duration = duration_cast<microseconds>(stop - start);\n",
        "\n",
        "    cout << \"Parallel Multiplication of matrix A and B: \\n\";\n",
        "    print(C, M, K);\n",
        "\n",
        "    cout << \"Sequential Multiplication Time: \" << seq_duration.count() << \" microseconds\" << endl;\n",
        "    cout << \"Parallel Multiplication Time: \" << par_duration.count() << \" microseconds\" << endl;\n",
        "\n",
        "    delete[] A;\n",
        "    delete[] B;\n",
        "    delete[] C;\n",
        "\n",
        "    cudaFree(X);\n",
        "    cudaFree(Y);\n",
        "    cudaFree(Z);\n",
        "\n",
        "    return 0;\n",
        "}"
      ],
      "metadata": {
        "colab": {
          "base_uri": "https://localhost:8080/"
        },
        "id": "a53UVIVxFvFy",
        "outputId": "67bdba5f-5aa5-47d3-92a2-9b4dcecea3d6"
      },
      "execution_count": 8,
      "outputs": [
        {
          "output_type": "stream",
          "name": "stdout",
          "text": [
            "Overwriting Assignment4A.cu\n"
          ]
        }
      ]
    },
    {
      "cell_type": "code",
      "source": [
        "!nvcc Assignment4A.cu -o Assignment4A\n",
        "!./Assignment4A\n"
      ],
      "metadata": {
        "colab": {
          "base_uri": "https://localhost:8080/"
        },
        "id": "1OBXKNqbFvIJ",
        "outputId": "215a0ff0-4144-4d66-d448-20721f8d0ff7"
      },
      "execution_count": 9,
      "outputs": [
        {
          "output_type": "stream",
          "name": "stdout",
          "text": [
            "\u001b[01m\u001b[0m\u001b[01mAssignment4A.cu(61)\u001b[0m: \u001b[01;35mwarning\u001b[0m #177-D: variable \u001b[01m\"matrixBytes\"\u001b[0m was declared but never referenced\n",
            "      size_t matrixBytes = matrixSize * sizeof(int);\n",
            "             ^\n",
            "\n",
            "\u001b[01;36m\u001b[0m\u001b[01;36mRemark\u001b[0m: The warnings can be suppressed with \"-diag-suppress <warning-number>\"\n",
            "\n",
            "Enter the number of rows and columns of the first matrix: 3\n",
            "3\n",
            "Enter the number of columns of the second matrix: 3\n",
            "Enter element 1: 1\n",
            "Enter element 2: 2\n",
            "Enter element 3: 3\n",
            "Enter element 4: 1\n",
            "Enter element 5: 3\n",
            "Enter element 6: 6\n",
            "Enter element 7: 2\n",
            "Enter element 8: 9\n",
            "Enter element 9: 5\n",
            "Enter element 1: 1\n",
            "Enter element 2: 3\n",
            "Enter element 3: 1\n",
            "Enter element 4: 4\n",
            "Enter element 5: 1\n",
            "Enter element 6: 4\n",
            "Enter element 7: 9\n",
            "Enter element 8: 6\n",
            "Enter element 9: 10\n",
            "Matrix A: \n",
            "1 2 3 \n",
            "1 3 6 \n",
            "2 9 5 \n",
            "\n",
            "Matrix B: \n",
            "1 3 1 \n",
            "4 1 4 \n",
            "9 6 10 \n",
            "\n",
            "Sequential Multiplication of matrix A and B: \n",
            "36 23 39 \n",
            "67 42 73 \n",
            "83 45 88 \n",
            "\n",
            "Parallel Multiplication of matrix A and B: \n",
            "36 23 39 \n",
            "67 42 73 \n",
            "83 45 88 \n",
            "\n",
            "Sequential Multiplication Time: 0 microseconds\n",
            "Parallel Multiplication Time: 4 microseconds\n"
          ]
        }
      ]
    },
    {
      "cell_type": "code",
      "source": [],
      "metadata": {
        "id": "kv9T30UzFvS5"
      },
      "execution_count": 4,
      "outputs": []
    }
  ]
}